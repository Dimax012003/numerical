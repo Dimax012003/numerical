{
 "cells": [
  {
   "cell_type": "markdown",
   "id": "542f74e0",
   "metadata": {},
   "source": [
    "# Υλοποιήση της παραγοντοποίησης QR ενός πίνακα A χρησιμοποιώντας την μέθοδο Gram-Schmidt:"
   ]
  },
  {
   "cell_type": "code",
   "execution_count": 530,
   "id": "876576f1",
   "metadata": {},
   "outputs": [],
   "source": [
    "import numpy as np\n",
    "def QR(A):\n",
    "\n",
    "    n=A.shape[0]\n",
    "    Q=np.matrix(np.zeros((n,n)))\n",
    "    for i in range(0,n):\n",
    "        q=A[0:n,i]\n",
    "        for j in range(0,i):\n",
    "            len1=np.sum(A[0:n,i].T * Q[0:n,j])\n",
    "            q=q-len1*Q[0:n,j]\n",
    "        Q[0:n,i]=q/np.linalg.norm(q) \n",
    "\n",
    "    R=Q.T*A\n",
    "    return Q,R\n",
    "      \n"
   ]
  },
  {
   "cell_type": "markdown",
   "id": "ef918535",
   "metadata": {},
   "source": [
    "# Υλοποιήση μιας συνάρτησης , η οποία δημιουργεί έναν πίνακα Hilbert τάξης n. Έπειτα, ορίζεται μια μεταβλητή k και εκτυπώνεται ο πίνακας Hilbert τάξης k χρησιμοποιώντας τη παρακάτω συνάρτηση."
   ]
  },
  {
   "cell_type": "code",
   "execution_count": 531,
   "id": "98911fe1",
   "metadata": {
    "scrolled": false
   },
   "outputs": [
    {
     "name": "stdout",
     "output_type": "stream",
     "text": [
      "[[1.         0.5        0.33333333 0.25       0.2       ]\n",
      " [0.5        0.33333333 0.25       0.2        0.16666667]\n",
      " [0.33333333 0.25       0.2        0.16666667 0.14285714]\n",
      " [0.25       0.2        0.16666667 0.14285714 0.125     ]\n",
      " [0.2        0.16666667 0.14285714 0.125      0.11111111]]\n"
     ]
    }
   ],
   "source": [
    "\n",
    "def Hilbert(n):\n",
    "   \n",
    "    H=np.matrix(np.zeros((n,n)))\n",
    "    for i in range(0,n):\n",
    "        for j in  range(0,n):\n",
    "            H[i,j]=1/(i+j+1)\n",
    "    \n",
    "   \n",
    "    return(H) \n",
    "k=5\n",
    "print(Hilbert(k))\n"
   ]
  },
  {
   "cell_type": "markdown",
   "id": "dbaea631",
   "metadata": {},
   "source": [
    "# Δημιουργία ενός διανύσματος με στοιχεία ίσα με 1."
   ]
  },
  {
   "cell_type": "code",
   "execution_count": 532,
   "id": "eb35cb08",
   "metadata": {
    "scrolled": false
   },
   "outputs": [
    {
     "name": "stdout",
     "output_type": "stream",
     "text": [
      "[[1.]\n",
      " [1.]\n",
      " [1.]\n",
      " [1.]\n",
      " [1.]]\n"
     ]
    }
   ],
   "source": [
    "b=np.ones((k,1))\n",
    "print(b)"
   ]
  },
  {
   "cell_type": "markdown",
   "id": "0245b9f0",
   "metadata": {},
   "source": [
    "# Υλοποιήση της παραγοντοποίησης LU ενός πίνακα A : "
   ]
  },
  {
   "cell_type": "code",
   "execution_count": 533,
   "id": "70f6e619",
   "metadata": {},
   "outputs": [],
   "source": [
    "def LU(A):\n",
    "    n=A.shape[0]\n",
    "    L=np.matrix(np.identity(n))\n",
    "    for i in range(0,n-1):\n",
    "        for j in range(i+1,n):\n",
    "            mult=A[j,i]/A[i,i]\n",
    "            L[j,i]=mult\n",
    "            A[j,0:n]=A[j,0:n]-A[i,0:n]*mult\n",
    "    U=A\n",
    "\n",
    "\n",
    "    return L,U\n"
   ]
  },
  {
   "cell_type": "markdown",
   "id": "27a56e7d",
   "metadata": {},
   "source": [
    "# Επίλυση του συστήματος Hx = b με παραγοντοποιήση LU."
   ]
  },
  {
   "cell_type": "markdown",
   "id": "4455a327",
   "metadata": {},
   "source": [
    "Όπου H είναι ο πίνακας Hilbert τάξης k και b το διάνυσμα με στοιχεία ίσα με 1.\n",
    "\n",
    "Το διάνυσμα y υπολογίζεται λύνοντας το σύστημα L * y = b.\n",
    "\n",
    "Το διάνυσμα x υπολογίζεται λύνοντας το σύστημα U * x = y."
   ]
  },
  {
   "cell_type": "code",
   "execution_count": 534,
   "id": "da128da6",
   "metadata": {
    "scrolled": false
   },
   "outputs": [
    {
     "name": "stdout",
     "output_type": "stream",
     "text": [
      "[[    5.]\n",
      " [ -120.]\n",
      " [  630.]\n",
      " [-1120.]\n",
      " [  630.]]\n"
     ]
    }
   ],
   "source": [
    "\n",
    "A=Hilbert(k)\n",
    "\n",
    "L,U=LU(Hilbert(k))\n",
    "y= np.linalg.inv(L)*b\n",
    "x= np.linalg.inv(U)*y\n",
    "\n",
    "print(x)\n",
    "\n",
    "#print(np.linalg.inv(Hilbert(k))*b)"
   ]
  },
  {
   "cell_type": "markdown",
   "id": "f0a7d7e5",
   "metadata": {},
   "source": [
    "Ελάχιστη μεταβολή της τιμής του πρώτου στοιχείου του b."
   ]
  },
  {
   "cell_type": "code",
   "execution_count": 535,
   "id": "42f54f2a",
   "metadata": {
    "scrolled": true
   },
   "outputs": [
    {
     "name": "stdout",
     "output_type": "stream",
     "text": [
      "[[1.]\n",
      " [1.]\n",
      " [1.]\n",
      " [1.]\n",
      " [1.]]\n"
     ]
    }
   ],
   "source": [
    "bnew=np.array(np.ones((k,1)))\n",
    "bnew[0]=b[0]+10**(-15)\n",
    "print(bnew)"
   ]
  },
  {
   "cell_type": "markdown",
   "id": "c85f46c9",
   "metadata": {},
   "source": [
    "Επίλυση του συστήματος Hxnew = bnew."
   ]
  },
  {
   "cell_type": "code",
   "execution_count": 536,
   "id": "e512a72d",
   "metadata": {
    "scrolled": false
   },
   "outputs": [
    {
     "name": "stdout",
     "output_type": "stream",
     "text": [
      "[[    5.]\n",
      " [ -120.]\n",
      " [  630.]\n",
      " [-1120.]\n",
      " [  630.]]\n"
     ]
    }
   ],
   "source": [
    "\n",
    "Lnew,Unew=LU(Hilbert(k))\n",
    "ynew= np.linalg.inv(Lnew)*bnew\n",
    "xnew= np.linalg.inv(Unew)*ynew\n",
    "print(xnew)\n"
   ]
  },
  {
   "cell_type": "markdown",
   "id": "97959fa8",
   "metadata": {},
   "source": [
    "Η παρακάτω συνάρτηση υπολογίζει τη μέγιστη απόλυτη διαφορά μεταξύ των λύσεων δύο συστημάτων γραμμικών εξισώσεων που προκύπτουν από την τροποποίηση του πρώτου στοιχείου του διανύσματος b."
   ]
  },
  {
   "cell_type": "code",
   "execution_count": 551,
   "id": "12e8b284",
   "metadata": {},
   "outputs": [],
   "source": [
    "\n",
    "def getnorm(u):\n",
    "\n",
    "\n",
    "    c=np.ones((u,1))\n",
    "    cnew=np.array(np.zeros((u,1)))\n",
    "\n",
    "\n",
    "    for i in range(0,u):\n",
    "        if(i==0):\n",
    "            cnew[i]=1+10**(-15)\n",
    "        else:\n",
    "            cnew[i]=1\n",
    "    \n",
    "    l,o=LU(Hilbert(u))\n",
    "    t= np.linalg.inv(l)*c\n",
    "    f= np.linalg.inv(o)*t\n",
    "    lnew,onew=LU(Hilbert(u))\n",
    "    tnew= np.linalg.inv(lnew)*cnew\n",
    "    fnew= np.linalg.inv(onew)*tnew\n",
    "    \n",
    "    #print(np.max(np.abs(f-fnew)))      \n",
    "    return np.max(np.abs(f-fnew))"
   ]
  },
  {
   "cell_type": "markdown",
   "id": "34211522",
   "metadata": {},
   "source": [
    "# Το παρακάτω διάγραμμα παρουσιάζει τις μέγιστες απόλυτες διαφορές μεταξύ δύο λύσεων ενός συστήματος γραμμικών εξισώσεων Hx = b.\n",
    "Ο άξονας x αντιστοιχεί στο μέγεθος του πίνακα H (τον αριθμό των γραμμών και στηλών), ενώ ο άξονας y αναπαριστά τη μέγιστη απόλυτη διαφορά ανάμεσα στις δύο λύσεις του συστήματος."
   ]
  },
  {
   "cell_type": "markdown",
   "id": "172ea5f4",
   "metadata": {},
   "source": [
    "Γενικά, περιμένουμε ότι όσο αυξάνεται η διάσταση u του πίνακα Hilbert, η μέγιστη απόλυτη διαφορά μεταξύ των λύσεων θα αυξάνεται επίσης. Αυτό συμβαίνει, επειδή η επίδραση της αρχικής μετάβολης του πρώτου στοιχείου του διανύσματος b διακρίνεται καθώς η διάσταση u του συστήματος αυξάνεται.Δηλαδή, το μέγιστο σφάλμα που προκύπτει από την ελάχιστη μεταβολή του πρώτου στοιχείου του διανύσματος b στο σύστημα γραμμικών εξισώσεων αυξάνεται όσο μεγαλώνει και η διάσταση u του συστήματος, όπως φαίνεται εν τέλει και στο διάγραμμα.\n",
    "\n",
    "Επομένως, παρατηρείται και απο το διάγραμμα ότι:\n",
    "\n",
    "-Η απότομη κλίση στο διάγραμμα υποδεικνύει ότι ο πίνακας Hilbert επηρεάζεται εύκολα ακόμα και από πολύ μικρές αλλαγές στο διάνυσμα b και μπορεί να οδηγήσει σε μη ακριβείς λύσεις.\n",
    "\n",
    "-Η λύση του συστήματος γίνεται πιο ανακριβής όσο αυξάνεται η διάσταση u του πίνακα Hilbert."
   ]
  },
  {
   "cell_type": "code",
   "execution_count": 552,
   "id": "714836c0",
   "metadata": {
    "scrolled": false
   },
   "outputs": [
    {
     "data": {
      "image/png": "[encoded data removed]",
      "text/plain": [
       "<Figure size 640x480 with 1 Axes>"
      ]
     },
     "metadata": {},
     "output_type": "display_data"
    }
   ],
   "source": [
    "import matplotlib.pyplot as mlt\n",
    "k=50\n",
    "d=np.arange(1,k,1)\n",
    "function=np.array(np.zeros((k-1)))\n",
    "for i in range(2,k-1):\n",
    "    function[i]=getnorm(i)\n",
    "\n",
    "#print(function)\n",
    "#print(d)\n",
    "mlt.plot(d,function)\n",
    "mlt.show()"
   ]
  },
  {
   "cell_type": "markdown",
   "id": "08bfd78d",
   "metadata": {},
   "source": [
    "Η παρακάτω συνάρτηση υπολογίζει τον πίνακα Hilbert τάξης i και τον αντίστροφο του. Έπειτα, υπολογίζει τη μέγιστη απόλυτη διαφορά του πίνακα Hilbert και του αντίστροφου του."
   ]
  },
  {
   "cell_type": "code",
   "execution_count": 539,
   "id": "69cef6d7",
   "metadata": {},
   "outputs": [],
   "source": [
    "def getInorm(i):\n",
    "    \n",
    "    A=Hilbert(i)*np.linalg.inv(Hilbert(i))\n",
    "        #print(np.max(np.abs(A-np.identity(i))))\n",
    "    return np.max(np.abs(A-np.identity(i)))"
   ]
  },
  {
   "cell_type": "markdown",
   "id": "463fc28c",
   "metadata": {},
   "source": [
    "# Το παρακάτω διάγραμμα παρουσιάζει τη μέγιστη απόλυτη διαφορά μεταξύ του πίνακα Hilbert τάξης i και του αντίστροφου πίνακα Hilbert τάξης i. \n",
    "Ο άξονας x αντιστοιχεί σε κάθε τάξη i του πίνακα Hilbert απο 1 εώς 8, ενώ ο άξονας y αναπαριστά τη μέγιστη απόλυτη διαφορά μεταξύ του πίνακα Hilbert και του αντίστροφου πίνακα Hilbert.\n",
    "\n",
    "Από το διάγραμμα φαίνεται ότι με την αύξηση της τάξης i αυξάνεται η διαφορά μεταξύ του πίνακα Hilbert και του αντίστροφου του. Όταν το σημείο στο διάγραμμα είναι κοντά στο μηδέν, ο πίνακας Hilbert και ο αντίστροφός του είναι παρόμοιοι. Αν το σημείο στο διάγραμμα θα απομακρύνεται από το μηδέν, ο πίνακας Hilbert και ο αντίστροφός του είναι διαφορετικοί.\n",
    "\n",
    "Επομένως ,αν η μέγιστη απόλυτη διαφορά είναι μικρή τότε, ο πίνακας Hilbert είναι σταθερός. Αυτό σημαίνει ότι μπορούμε να επιλύσουμε το σύστημα Hx = b με ακρίβεια χρησιμοποιώντας τον αντίστροφο του πίνακα Hilbert.\n",
    "\n",
    "Ωστόσο, αν η μέγιστη απόλυτη διαφορά είναι μεγάλη, ο πίνακας Hilbert είναι ασταθής. Αυτό σημαίνει ότι η επίλυση του συστήματος Hx = b μπορεί να είναι ανακριβής χρησιμοποιώντας τον αντίστροφο του πίνακα Hilbert.\n",
    "\n",
    "Συμπερασματικά, το διάγραμμα μπορεί να μας δώσει την ακρίβεια της λύσης του συστήματος Hx = b όταν χρησιμοποιούμε τον πίνακα Hilbert και τον αντίστροφό του."
   ]
  },
  {
   "cell_type": "code",
   "execution_count": 540,
   "id": "70f8ede4",
   "metadata": {
    "scrolled": false
   },
   "outputs": [
    {
     "name": "stdout",
     "output_type": "stream",
     "text": [
      "[0.00000000e+00 0.00000000e+00 3.70074342e-17 3.68594044e-15\n",
      " 3.88578059e-14 1.73723998e-12 5.95823996e-11 2.01905526e-09\n",
      " 5.26857409e-08 1.50073133e-06 3.28645840e-05 1.08085784e-03\n",
      " 5.47872959e-02 9.30670299e-01 1.77502677e+00 8.11776596e-01\n",
      " 8.53301507e-01 1.83419102e+00 1.89994497e+00 6.14313668e+00\n",
      " 4.49825463e+00 2.95390159e+00 2.48719291e+01 2.73648782e+00\n",
      " 1.86504475e+00 1.27762105e+01 8.74074234e+00 8.94242918e+00\n",
      " 8.03641179e+00 1.65826488e+01 3.53180588e+00 4.92896221e+00\n",
      " 8.42551740e+00 7.84142066e+00 7.29691711e+00 5.12455445e+01\n",
      " 1.16244627e+01 1.97152101e+01 9.56279847e+00 8.54867252e+01\n",
      " 1.50675555e+01 1.01714871e+01 7.85366556e+00 9.11956901e+00\n",
      " 2.45845836e+01 3.31597759e+01 1.29226469e+01 5.96446384e+01\n",
      " 8.80629597e+00]\n",
      "[ 1  2  3  4  5  6  7  8  9 10 11 12 13 14 15 16 17 18 19 20 21 22 23 24\n",
      " 25 26 27 28 29 30 31 32 33 34 35 36 37 38 39 40 41 42 43 44 45 46 47 48\n",
      " 49]\n"
     ]
    },
    {
     "data": {
      "image/png": "[encoded data removed]",
      "text/plain": [
       "<Figure size 640x480 with 1 Axes>"
      ]
     },
     "metadata": {},
     "output_type": "display_data"
    }
   ],
   "source": [
    "k=50\n",
    "x=np.arange(1,k,1)\n",
    "functionI=np.array(np.zeros((k-1)))\n",
    "for i in range(1,k-1):\n",
    "    functionI[i]=getInorm(i)\n",
    "    \n",
    "\n",
    "print(functionI)\n",
    "print(x)\n",
    "mlt.plot(x,functionI)\n",
    "mlt.show()"
   ]
  },
  {
   "cell_type": "markdown",
   "id": "0461a01f",
   "metadata": {},
   "source": [
    "Αρχικά, δημιουργείται ο πίνακας t που αντιστοιχεί στο χρόνο και η y συναρτηση που περιέχει τιμές οι οποιές παράγονται από μια συνάρτηση cos(4t) με προσθήκη θορύβου που παράγεται απο μία κανονική κατανομή."
   ]
  },
  {
   "cell_type": "code",
   "execution_count": 541,
   "id": "7b1ebd1f",
   "metadata": {},
   "outputs": [
    {
     "name": "stdout",
     "output_type": "stream",
     "text": [
      "[0.   0.02 0.04 0.06 0.08 0.1  0.12 0.14 0.16 0.18 0.2  0.22 0.24 0.26\n",
      " 0.28 0.3  0.32 0.34 0.36 0.38 0.4  0.42 0.44 0.46 0.48 0.5  0.52 0.54\n",
      " 0.56 0.58 0.6  0.62 0.64 0.66 0.68 0.7  0.72 0.74 0.76 0.78 0.8  0.82\n",
      " 0.84 0.86 0.88 0.9  0.92 0.94 0.96 0.98]\n",
      "[ 0.84702414  0.97676365  0.98780997  0.9631688   0.88940775  0.82291082\n",
      "  0.71410487  0.76264711  0.75763613  0.68203632  0.77416752  0.74063441\n",
      "  0.44735589  0.45837067  0.37979103  0.31842339  0.26870239  0.02546065\n",
      "  0.27247799 -0.09221393  0.07030862 -0.05880744 -0.19392083 -0.26717784\n",
      " -0.27785916 -0.56339421 -0.35271189 -0.36368922 -0.80157931 -0.65381316\n",
      " -0.81941804 -0.7646643  -0.79220517 -0.73996047 -1.13462902 -0.93089519\n",
      " -0.95872741 -1.03450513 -1.10229811 -1.08474337 -0.73860427 -1.01705364\n",
      " -0.93959548 -0.96388471 -0.78322841 -0.84690601 -0.97384273 -0.82024589\n",
      " -0.90303883 -0.80205285]\n"
     ]
    }
   ],
   "source": [
    "import numpy as np\n",
    "import pandas as pd\n",
    "t=np.arange(0,1,0.02)\n",
    "\n",
    "y= np.cos(4 * t) + 0.1 * np.random.randn(t.shape[0])\n",
    "\n",
    "print(t)\n",
    "print(y)"
   ]
  },
  {
   "cell_type": "markdown",
   "id": "3e63097f",
   "metadata": {},
   "source": [
    "# Υπολογίσμος των τιμών ενός πολυωνύμου βαθμού 4 που προσεγγίζει βέλτιστα την παραπάνω συνάρτηση, χρησιμοποιώντας τη μέθοδο ελαχίστων τετραγώνων:"
   ]
  },
  {
   "cell_type": "code",
   "execution_count": 542,
   "id": "98bba40f",
   "metadata": {},
   "outputs": [
    {
     "name": "stdout",
     "output_type": "stream",
     "text": [
      "[[1.0000000e+00 0.0000000e+00 0.0000000e+00 0.0000000e+00 0.0000000e+00]\n",
      " [1.0000000e+00 2.0000000e-02 4.0000000e-04 8.0000000e-06 1.6000000e-07]\n",
      " [1.0000000e+00 4.0000000e-02 1.6000000e-03 6.4000000e-05 2.5600000e-06]\n",
      " [1.0000000e+00 6.0000000e-02 3.6000000e-03 2.1600000e-04 1.2960000e-05]\n",
      " [1.0000000e+00 8.0000000e-02 6.4000000e-03 5.1200000e-04 4.0960000e-05]\n",
      " [1.0000000e+00 1.0000000e-01 1.0000000e-02 1.0000000e-03 1.0000000e-04]\n",
      " [1.0000000e+00 1.2000000e-01 1.4400000e-02 1.7280000e-03 2.0736000e-04]\n",
      " [1.0000000e+00 1.4000000e-01 1.9600000e-02 2.7440000e-03 3.8416000e-04]\n",
      " [1.0000000e+00 1.6000000e-01 2.5600000e-02 4.0960000e-03 6.5536000e-04]\n",
      " [1.0000000e+00 1.8000000e-01 3.2400000e-02 5.8320000e-03 1.0497600e-03]\n",
      " [1.0000000e+00 2.0000000e-01 4.0000000e-02 8.0000000e-03 1.6000000e-03]\n",
      " [1.0000000e+00 2.2000000e-01 4.8400000e-02 1.0648000e-02 2.3425600e-03]\n",
      " [1.0000000e+00 2.4000000e-01 5.7600000e-02 1.3824000e-02 3.3177600e-03]\n",
      " [1.0000000e+00 2.6000000e-01 6.7600000e-02 1.7576000e-02 4.5697600e-03]\n",
      " [1.0000000e+00 2.8000000e-01 7.8400000e-02 2.1952000e-02 6.1465600e-03]\n",
      " [1.0000000e+00 3.0000000e-01 9.0000000e-02 2.7000000e-02 8.1000000e-03]\n",
      " [1.0000000e+00 3.2000000e-01 1.0240000e-01 3.2768000e-02 1.0485760e-02]\n",
      " [1.0000000e+00 3.4000000e-01 1.1560000e-01 3.9304000e-02 1.3363360e-02]\n",
      " [1.0000000e+00 3.6000000e-01 1.2960000e-01 4.6656000e-02 1.6796160e-02]\n",
      " [1.0000000e+00 3.8000000e-01 1.4440000e-01 5.4872000e-02 2.0851360e-02]\n",
      " [1.0000000e+00 4.0000000e-01 1.6000000e-01 6.4000000e-02 2.5600000e-02]\n",
      " [1.0000000e+00 4.2000000e-01 1.7640000e-01 7.4088000e-02 3.1116960e-02]\n",
      " [1.0000000e+00 4.4000000e-01 1.9360000e-01 8.5184000e-02 3.7480960e-02]\n",
      " [1.0000000e+00 4.6000000e-01 2.1160000e-01 9.7336000e-02 4.4774560e-02]\n",
      " [1.0000000e+00 4.8000000e-01 2.3040000e-01 1.1059200e-01 5.3084160e-02]\n",
      " [1.0000000e+00 5.0000000e-01 2.5000000e-01 1.2500000e-01 6.2500000e-02]\n",
      " [1.0000000e+00 5.2000000e-01 2.7040000e-01 1.4060800e-01 7.3116160e-02]\n",
      " [1.0000000e+00 5.4000000e-01 2.9160000e-01 1.5746400e-01 8.5030560e-02]\n",
      " [1.0000000e+00 5.6000000e-01 3.1360000e-01 1.7561600e-01 9.8344960e-02]\n",
      " [1.0000000e+00 5.8000000e-01 3.3640000e-01 1.9511200e-01 1.1316496e-01]\n",
      " [1.0000000e+00 6.0000000e-01 3.6000000e-01 2.1600000e-01 1.2960000e-01]\n",
      " [1.0000000e+00 6.2000000e-01 3.8440000e-01 2.3832800e-01 1.4776336e-01]\n",
      " [1.0000000e+00 6.4000000e-01 4.0960000e-01 2.6214400e-01 1.6777216e-01]\n",
      " [1.0000000e+00 6.6000000e-01 4.3560000e-01 2.8749600e-01 1.8974736e-01]\n",
      " [1.0000000e+00 6.8000000e-01 4.6240000e-01 3.1443200e-01 2.1381376e-01]\n",
      " [1.0000000e+00 7.0000000e-01 4.9000000e-01 3.4300000e-01 2.4010000e-01]\n",
      " [1.0000000e+00 7.2000000e-01 5.1840000e-01 3.7324800e-01 2.6873856e-01]\n",
      " [1.0000000e+00 7.4000000e-01 5.4760000e-01 4.0522400e-01 2.9986576e-01]\n",
      " [1.0000000e+00 7.6000000e-01 5.7760000e-01 4.3897600e-01 3.3362176e-01]\n",
      " [1.0000000e+00 7.8000000e-01 6.0840000e-01 4.7455200e-01 3.7015056e-01]\n",
      " [1.0000000e+00 8.0000000e-01 6.4000000e-01 5.1200000e-01 4.0960000e-01]\n",
      " [1.0000000e+00 8.2000000e-01 6.7240000e-01 5.5136800e-01 4.5212176e-01]\n",
      " [1.0000000e+00 8.4000000e-01 7.0560000e-01 5.9270400e-01 4.9787136e-01]\n",
      " [1.0000000e+00 8.6000000e-01 7.3960000e-01 6.3605600e-01 5.4700816e-01]\n",
      " [1.0000000e+00 8.8000000e-01 7.7440000e-01 6.8147200e-01 5.9969536e-01]\n",
      " [1.0000000e+00 9.0000000e-01 8.1000000e-01 7.2900000e-01 6.5610000e-01]\n",
      " [1.0000000e+00 9.2000000e-01 8.4640000e-01 7.7868800e-01 7.1639296e-01]\n",
      " [1.0000000e+00 9.4000000e-01 8.8360000e-01 8.3058400e-01 7.8074896e-01]\n",
      " [1.0000000e+00 9.6000000e-01 9.2160000e-01 8.8473600e-01 8.4934656e-01]\n",
      " [1.0000000e+00 9.8000000e-01 9.6040000e-01 9.4119200e-01 9.2236816e-01]]\n"
     ]
    }
   ],
   "source": [
    "A=np.matrix(np.zeros((50,5)))\n",
    "for j in range(0,5):\n",
    "    for i in range(0,50):\n",
    "        A[i,j]=np.power(t[i],j)\n",
    "\n",
    "print(A)"
   ]
  },
  {
   "cell_type": "markdown",
   "id": "4ecd5fa8",
   "metadata": {},
   "source": [
    "# Επίλυση του γραμμικού συστήματος που προκύπτει από την παραγοντοποιήση LU του πίνακα A.T * A"
   ]
  },
  {
   "cell_type": "markdown",
   "id": "28e49b5c",
   "metadata": {},
   "source": [
    "Το διάνυσμα g προκύπτει λύνοντας το σύστημα L * g = b.\n",
    "\n",
    "Το διάνυσμα x προκύπτει λύνοντας το σύστημα U * x = g."
   ]
  },
  {
   "cell_type": "code",
   "execution_count": 543,
   "id": "f0092666",
   "metadata": {},
   "outputs": [
    {
     "name": "stdout",
     "output_type": "stream",
     "text": [
      "[[  0.89251002]\n",
      " [  1.20256579]\n",
      " [-14.93235824]\n",
      " [ 16.99794452]\n",
      " [ -4.87120472]]\n"
     ]
    }
   ],
   "source": [
    "\n",
    "L,U=LU(A.T*A)\n",
    "\n",
    "b=A.T*y.reshape(50,1)       \n",
    "g= np.linalg.inv(L)*b\n",
    "x= np.linalg.inv(U)*g\n",
    "print(x)"
   ]
  },
  {
   "cell_type": "markdown",
   "id": "0276ca54",
   "metadata": {},
   "source": [
    "# Επίλυση του γραμμικού συστήματος που προκύπτει από την παραγοντοποιήση QR του πίνακα A.T * A"
   ]
  },
  {
   "cell_type": "markdown",
   "id": "abb407eb",
   "metadata": {},
   "source": [
    "Το διάνυσμα x προκύπτει λύνοντας το σύστημα R * xnew = Q.T * A.T * y."
   ]
  },
  {
   "cell_type": "code",
   "execution_count": 544,
   "id": "35968497",
   "metadata": {},
   "outputs": [
    {
     "name": "stdout",
     "output_type": "stream",
     "text": [
      "[[  0.89251002]\n",
      " [  1.20256579]\n",
      " [-14.93235824]\n",
      " [ 16.99794452]\n",
      " [ -4.87120472]]\n"
     ]
    }
   ],
   "source": [
    "Q,R=QR(A.T*A)\n",
    "xnew=np.linalg.inv(R)*Q.T*A.T*y.reshape(50,1)  \n",
    "print(xnew)"
   ]
  },
  {
   "cell_type": "markdown",
   "id": "dfd463fa",
   "metadata": {},
   "source": [
    "# Το άθροισμα των τετραγωνικών σφαλμάτων με χρήση της παραγοντοποιήσης LU:"
   ]
  },
  {
   "cell_type": "code",
   "execution_count": 545,
   "id": "62fe446c",
   "metadata": {},
   "outputs": [
    {
     "name": "stdout",
     "output_type": "stream",
     "text": [
      "[[0.51161541]]\n"
     ]
    }
   ],
   "source": [
    "f=lambda u:x[0]+u*x[1]+(u**2)*x[2]+(u**3)*x[3]+(u**4)*x[4]\n",
    "sum=0\n",
    "for i in range(0,50):\n",
    "    sum=sum+(f(i/50)-y[i])**2\n",
    "print(sum)"
   ]
  },
  {
   "cell_type": "markdown",
   "id": "06ce6e1b",
   "metadata": {},
   "source": [
    "# Το άθροισμα των τετραγωνικών σφαλμάτων με χρήση της παραγοντοποιήσης QR:"
   ]
  },
  {
   "cell_type": "code",
   "execution_count": 546,
   "id": "0246c144",
   "metadata": {},
   "outputs": [
    {
     "name": "stdout",
     "output_type": "stream",
     "text": [
      "[[0.51161541]]\n"
     ]
    }
   ],
   "source": [
    "f1=lambda u:xnew[0]+u*xnew[1]+(u**2)*xnew[2]+(u**3)*xnew[3]+(u**4)*xnew[4]\n",
    "sum1=0\n",
    "for i in range(0,50):\n",
    "    sum1=sum1+(f1(i/50)-y[i])**2\n",
    "print(sum1)"
   ]
  },
  {
   "cell_type": "markdown",
   "id": "290c70e3",
   "metadata": {},
   "source": [
    "# Το διάγραμμα απεικονίζει τα αρχικά δεδομένα και την καμπύλη βέλτιστης προσέγγισης που προκύπτει:"
   ]
  },
  {
   "cell_type": "code",
   "execution_count": 550,
   "id": "25db3b5c",
   "metadata": {
    "scrolled": true
   },
   "outputs": [
    {
     "name": "stdout",
     "output_type": "stream",
     "text": [
      "[ 0.89251002  0.9107236   0.91779628  0.91451591  0.90165162  0.87995384\n",
      "  0.85015431  0.81296605  0.76908337  0.71918188  0.66391848  0.60393138\n",
      "  0.53984008  0.47224535  0.40172929  0.32885526  0.25416796  0.17819333\n",
      "  0.10143865  0.02439246 -0.05247537 -0.12871371 -0.20389011 -0.27759084\n",
      " -0.34942087 -0.41900387 -0.48598223 -0.55001704 -0.61078809 -0.66799386\n",
      " -0.72135158 -0.77059715 -0.81548517 -0.85578898 -0.89130059 -0.92183074\n",
      " -0.94720886 -0.9672831  -0.98192029 -0.991006   -0.99444447 -0.99215868\n",
      " -0.98409029 -0.97019968 -0.95046592 -0.9248868  -0.89347881 -0.85627714\n",
      " -0.8133357  -0.76472709]\n"
     ]
    },
    {
     "data": {
      "image/png": "[encoded data removed]",
      "text/plain": [
       "<Figure size 640x480 with 1 Axes>"
      ]
     },
     "metadata": {},
     "output_type": "display_data"
    }
   ],
   "source": [
    "import matplotlib.pyplot as mlt\n",
    "function=np.array(np.zeros((50)))   # ο πινακας function ειναι αυτος που αποθηκευει τις τιμες του πολυωνυμου\n",
    "function[0]=x[0]\n",
    "\n",
    "for i in range(1,50):\n",
    "    function[i]=f(i/50)\n",
    "print(function)\n",
    "mlt.plot(t,y)\n",
    "mlt.plot(t,function)\n",
    "mlt.show()"
   ]
  },
  {
   "cell_type": "code",
   "execution_count": null,
   "id": "7eb9a014",
   "metadata": {},
   "outputs": [],
   "source": []
  }
 ],
 "metadata": {
  "kernelspec": {
   "display_name": "Python 3 (ipykernel)",
   "language": "python",
   "name": "python3"
  },
  "language_info": {
   "codemirror_mode": {
    "name": "ipython",
    "version": 3
   },
   "file_extension": ".py",
   "mimetype": "text/x-python",
   "name": "python",
   "nbconvert_exporter": "python",
   "pygments_lexer": "ipython3",
   "version": "3.10.9"
  }
 },
 "nbformat": 4,
 "nbformat_minor": 5
}
